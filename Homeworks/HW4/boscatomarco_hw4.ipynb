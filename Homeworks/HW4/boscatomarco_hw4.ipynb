{
 "cells": [
  {
   "cell_type": "markdown",
   "metadata": {},
   "source": [
    "# HW3\n",
    "Boscato Marco - 2096921"
   ]
  },
  {
   "cell_type": "code",
   "execution_count": 1,
   "metadata": {},
   "outputs": [],
   "source": [
    "import numpy as np\n",
    "import matplotlib.pyplot as plt\n",
    "import data\n",
    "\n",
    "# Constants\n",
    "planets_data = data.all_data\n",
    "\n",
    "# planets standard gravitational parameter\n",
    "mu = np.array([2.2032e13, 3.24859e14, 3.986e14, 4.282837e13, 1.26686534e17, 3.7931187e16, 5.793939e15, 6.836529e15])\n"
   ]
  },
  {
   "cell_type": "markdown",
   "metadata": {},
   "source": [
    "## Exercise 2:\n",
    "The angles $\\Omega$, $i$, $\\omega$ are the Euler angles (corresponding to α, β, γ in the notation used in that article) characterizing the orientation of the coordinate system. We want to convert in a cartesian coordinate system, to do so we set $\\hat{x}$, $\\hat{y}$, $\\hat{z}$ from the inertial coordinate frame $\\hat{I}$, $\\hat{J}$, $\\hat{K}$ where $\\hat{I}$, $\\hat{J}$ is in the equatorial plane of the central body. $\\hat{I}$ is in the direction of the vernal equinox. $\\hat{J}$ is perpendicular to $\\hat{I}$ and with $\\hat{I}$ defines the reference plane. $\\hat{K}$ is perpendicular to the reference plane. In the Solar System usually the ecliptic as that plane.\n",
    "\n",
    "$\\hat{x}$, $\\hat{y}$ are in the orbital plane and with $\\hat{x}$ in the direction to the pericenter (periapsis). $\\hat{z}$ is perpendicular to the plane of the orbit. $\\hat{y}$ is mutually perpendicular to $\\hat{x}$ and $\\hat{z}$.\n",
    "\n",
    "Then, the transformation from the $\\hat{I}$, $\\hat{J}$, $\\hat{K}$ coordinate frame to the $\\hat{x}$, $\\hat{y}$, $\\hat{z}$ frame with the Euler angles $\\Omega$, $i$, $\\omega$ is:\n",
    "\n",
    "$$\n",
    "x_1 = \\cos \\Omega \\cdot \\cos \\omega - \\sin \\Omega \\cdot \\cos i \\cdot \\sin \\omega \\\\\n",
    "x_2 = \\sin \\Omega \\cdot \\cos \\omega + \\cos \\Omega \\cdot \\cos i \\cdot \\sin \\omega \\\\\n",
    "x_3 = \\sin i \\cdot \\sin \\omega \\\\\n",
    "$$\n",
    "\n",
    "$$\n",
    "y_1 = - \\cos \\Omega \\cdot \\sin \\omega - \\sin \\Omega \\cdot \\cos i \\cdot \\cos \\omega \\\\\n",
    "y_2 = - \\sin \\Omega \\cdot \\sin \\omega + \\cos \\Omega \\cdot \\cos i \\cdot \\cos \\omega \\\\\n",
    "y_3 = \\sin i \\cdot \\cos \\omega \\\\\n",
    "$$\n",
    "\n",
    "$$\n",
    "z_1 = \\sin i \\cdot \\sin \\Omega \\\\\n",
    "z_2 = - \\sin i \\cdot \\cos \\Omega \\\\\n",
    "z_3 = \\cos i\n",
    "$$\n",
    "\n",
    "so we can proced by writing the equation as products of matricies $3 \\times 3$, this gives us the rotation matrix from a inertial reference system to Laplace system"
   ]
  },
  {
   "cell_type": "code",
   "execution_count": 3,
   "metadata": {},
   "outputs": [],
   "source": [
    "def rotation_matrix(Omega, w, i):\n",
    "    R = np.array([[np.cos(Omega)*np.cos(w) - np.sin(Omega)*np.sin(w)*np.cos(i),\n",
    "                    np.sin(Omega)*np.cos(w) + np.cos(Omega)*np.sin(w)*np.cos(i),\n",
    "                    np.sin(w)*np.sin(i)],\n",
    "                    [-np.cos(Omega)*np.sin(w) - np.sin(Omega)*np.cos(w)*np.cos(i),\n",
    "                     -np.sin(Omega)*np.sin(w) + np.cos(Omega)*np.cos(w)*np.cos(i),\n",
    "                     np.cos(w)*np.sin(i)],\n",
    "                     [np.sin(Omega)*np.sin(i), -np.cos(Omega)*np.sin(i), np.cos(i)]])\n",
    "    return R"
   ]
  },
  {
   "cell_type": "markdown",
   "metadata": {},
   "source": [
    "the rotation matrix that transform inversily from Laplace to in ertial is the direct transposition of the matrix calculated above, basically\n",
    "\n",
    "$$\n",
    "r_{[L]} = R(\\omega, i, \\Omega) r_{[I]} \\\\\n",
    "r_{[I]} = R^T (\\omega, i, \\Omega) r_{[L]}\n",
    "$$\n",
    "\n",
    "explicity it will be:\n",
    "\n",
    "$$\n",
    "x = a[(\\cos \\Omega \\cos \\omega - \\sin \\Omega \\sin \\omega \\cos i)(\\cos E - e) - (\\cos \\Omega \\sin \\omega + \\sin \\Omega \\cos w \\cos i)\\sqrt{1 -e^2} \\sin E] \\\\\n",
    "y = a[(\\sin \\Omega \\cos \\omega + \\cos \\Omega \\sin \\omega \\cos i)(\\cos E - e) - (\\sin \\Omega \\sin \\omega - \\cos \\Omega \\cos w \\cos i)\\sqrt{1 -e^2} \\sin E] \\\\\n",
    "z = a[\\sin \\omega \\sin i (\\cos E - e) + \\cos \\omega \\sin i \\sqrt{1 - e^2} \\sin E]\n",
    "$$\n",
    "\n",
    "and the velocity transformation is obtained by deriving with respect to time:\n",
    "\n",
    "$$\n",
    "\\dot{x} = - \\frac{na^2}{r}[(\\cos \\Omega \\cos \\omega - \\sin \\Omega \\sin \\omega \\cos i)\\sin E + (\\cos \\Omega \\sin \\omega + \\sin \\Omega \\cos w \\cos i)\\sqrt{1 -e^2} \\cos E] \\\\\n",
    "\\dot{y} = - \\frac{na^2}{r}[(\\sin \\Omega \\cos \\omega + \\cos \\Omega \\sin \\omega \\cos i)\\sin E + (\\sin \\Omega \\sin \\omega - \\cos \\Omega \\cos w \\cos i)\\sqrt{1 -e^2} \\cos E] \\\\\n",
    "\\dot{z} = - \\frac{na^2}{r}[\\sin \\omega \\sin i \\sin E - \\sqrt{1 - e^2} \\cos \\omega \\sin i \\cos E]\n",
    "$$\n",
    "\n",
    "to calculate the *eccentric anomaly E* we use a Newton-Raphson method given\n",
    "\n",
    "$$\n",
    "M = L - \\pi \\\\\n",
    "0 = E - e\\sin E - M\n",
    "$$"
   ]
  },
  {
   "cell_type": "code",
   "execution_count": 4,
   "metadata": {},
   "outputs": [],
   "source": [
    "def Newton_Raphson(f, df, x, tol, iterations):\n",
    "    while abs(f(x)) > tol and iterations < 1000:\n",
    "        x = x - f(x)/df(x)\n",
    "        iterations += 1\n",
    "    return x"
   ]
  },
  {
   "cell_type": "code",
   "execution_count": 5,
   "metadata": {},
   "outputs": [],
   "source": [
    "def laplace_to_inertial(params, u):\n",
    "    L, a, e, i, Omega, w = params[0], params[1], params[2], params[3], params[4], params[5]\n",
    "    \n",
    "    # Mean Anomaly M\n",
    "    M = L - w  \n",
    "    n = np.sqrt(u/a**3.)  # mean motion\n",
    "    # Eccentric anomaly (E) by Newton-Raphson\n",
    "    f = lambda E: E - e*np.sin(E) - M\n",
    "    df = lambda E: 1 - e*np.cos(E)\n",
    "    E0 = M      # initial guess\n",
    "    accuracy = 1e-8\n",
    "    iter = 0\n",
    "    E = Newton_Raphson(f, df, E0, accuracy, iter)\n",
    "\n",
    "    # position \n",
    "    x = a*((np.cos(Omega)*np.cos(w) - np.sin(Omega)*np.sin(w)*np.cos(i))*(np.cos(E) - e) - (np.cos(Omega)*np.sin(w) + np.sin(Omega)*np.cos(w)*np.cos(i))*np.sqrt(1-e**2.)*np.sin(E))\n",
    "    y = a*((np.sin(Omega)*np.cos(w) + np.cos(Omega)*np.sin(w)*np.cos(i))*(np.cos(E) - e) - (np.sin(Omega)*np.sin(w) - np.cos(Omega)*np.cos(w)*np.cos(i))*np.sqrt(1-e**2.)*np.sin(E))\n",
    "    z = a*(np.sin(w)*np.sin(i)*(np.cos(E) - e) + np.cos(w)*np.sin(i)*np.sqrt(1-e**2.)*np.sin(E))\n",
    "\n",
    "    # velocity\n",
    "    r = np.sqrt(x**2. + y**2. + z**2.)\n",
    "\n",
    "    vx = -(n*a**2./r)*((np.cos(Omega)*np.cos(w) - np.sin(Omega)*np.sin(w)*np.cos(i))*np.sin(E) + (np.cos(Omega)*np.sin(w) + np.sin(Omega)*np.cos(w)*np.cos(i))*np.sqrt(1-e**2.)*np.cos(E))\n",
    "    vy = -(n*a**2./r)*((np.sin(Omega)*np.cos(w) + np.cos(Omega)*np.sin(w)*np.cos(i))*np.sin(E) + (np.sin(Omega)*np.sin(w) - np.cos(Omega)*np.cos(w)*np.cos(i))*np.sqrt(1-e**2.)*np.cos(E))\n",
    "    vz = -(n*a**2./r)*(np.sin(w)*np.sin(i)*np.sin(E) - np.cos(w)*np.sin(i)*np.sqrt(1-e**2.)*np.cos(E))\n",
    "\n",
    "    return np.array([x,y,z,vx,vy,vz])\n"
   ]
  },
  {
   "cell_type": "markdown",
   "metadata": {},
   "source": [
    "## Exercise 3\n",
    "First of all we have to convert each day at 23h of 2024 in JDE and then calculate *T* for every one of them\n",
    "\n",
    "$$\n",
    "T = \\frac{JDE - 2451545.0}{36525}\n",
    "$$\n",
    "\n",
    "We know from a converter that 01/01/2024 at 23h is 2460311.45833 and we know that the day after at the same hour will increment by 1, so we can immediately have the JD for each day of 2024.\n",
    "From `data.py` we get all the orbit parameters obtained on Jannuary 1 2000 at 12 h UT so that we can calculate the new orbit parameter by the formula\n",
    "\n",
    "$$\n",
    "a_0 + a_1 T + a_2 T^2 + a_3 T^3\n",
    "$$\n",
    "\n",
    "where T is the time measured in Julian centuries in 36525 ephemeris days from the epoch J2000.0"
   ]
  },
  {
   "cell_type": "code",
   "execution_count": 6,
   "metadata": {},
   "outputs": [],
   "source": [
    "def time_polynomial(dat, Time):\n",
    "    a0, a1, a2, a3 = dat[:,0], dat[:,1], dat[:,2], dat[:,3]\n",
    "    return a0 + a1*Time + a2*Time**2 + a3*Time**3"
   ]
  },
  {
   "cell_type": "code",
   "execution_count": 7,
   "metadata": {},
   "outputs": [],
   "source": [
    "JD_start = 2460311.45833\n",
    "JD_end = 2460311.45833 + 365\n",
    "\n",
    "JD_days = np.linspace(JD_start, JD_end, 365)\n",
    "T = np.zeros_like(JD_days)\n",
    "\n",
    "for i in range(len(JD_days)):\n",
    "    T[i] = (JD_days[i] - 2451545.0)/36525.\n",
    "\n",
    "\n",
    "planets_orbits_parameters = np.zeros((planets_data.shape[0], len(T), planets_data.shape[1]))\n",
    "for p in range(planets_data.shape[0]):\n",
    "    for i in range(len(T)):\n",
    "        planets_orbits_parameters[p, i] = time_polynomial(planets_data[p], T[i])\n"
   ]
  },
  {
   "cell_type": "code",
   "execution_count": 9,
   "metadata": {},
   "outputs": [],
   "source": [
    "planets_orbits_cartesian = np.zeros_like(planets_orbits_parameters)\n",
    "\n",
    "for p in range(planets_data.shape[0]):\n",
    "    for i in range(len(T)):\n",
    "        planets_orbits_cartesian[p, i] = laplace_to_inertial(planets_orbits_parameters[p, i], mu[p])"
   ]
  }
 ],
 "metadata": {
  "kernelspec": {
   "display_name": "Python 3",
   "language": "python",
   "name": "python3"
  },
  "language_info": {
   "codemirror_mode": {
    "name": "ipython",
    "version": 3
   },
   "file_extension": ".py",
   "mimetype": "text/x-python",
   "name": "python",
   "nbconvert_exporter": "python",
   "pygments_lexer": "ipython3",
   "version": "3.11.5"
  }
 },
 "nbformat": 4,
 "nbformat_minor": 2
}
