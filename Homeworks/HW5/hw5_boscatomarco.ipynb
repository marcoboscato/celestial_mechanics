{
 "cells": [
  {
   "cell_type": "markdown",
   "metadata": {},
   "source": [
    "# HW 5\n",
    "Marco Boscato - 2096921"
   ]
  },
  {
   "cell_type": "code",
   "execution_count": 1,
   "metadata": {},
   "outputs": [],
   "source": [
    "import numpy as np\n",
    "import matplotlib.pyplot as plt\n",
    "from scipy.special import factorial as fact"
   ]
  },
  {
   "cell_type": "markdown",
   "metadata": {},
   "source": [
    "## Exercise 1\n",
    "Let's develop the functions to compute Stumpff’s functions $c_n (z)$, n=1,2,...,5 and their first derivatives $c^{'}_n (z)$, n=1,2,3.\n",
    "\n",
    "We can re-write the Stumpff's function in a numerical computation way using a recursion method.\n",
    "\n",
    "From\n",
    "\n",
    "$$\n",
    "c_n(z) = \\sum_{k=0}^{\\infty} (-1)^k \\frac{z^k}{(2k + n)!}\n",
    "$$\n",
    "\n",
    "we can define\n",
    "\n",
    "$$\n",
    "t_k (z) = (-1)^k \\frac{z^k}{(2k + n)!}\n",
    "$$\n",
    "\n",
    "and by the ration of two adjacent terms we find\n",
    "\n",
    "$$\n",
    "\\frac{t_k}{t_{k-1}} \\quad \\longrightarrow \\quad t_k (z) = - \\frac{z}{(2k + n -1)(2k + n)} \\cdot t_{k-1} (z)\n",
    "$$\n",
    "\n",
    "such that\n",
    "\n",
    "$$\n",
    "c_n (z) = \\sum_{k=0}^{\\infty} t_k (z)\n",
    "$$\n",
    "\n",
    "Similar procedure for the derivative term $c^{'}_n (z)$\n",
    "\n",
    "$$\n",
    "u_k (z) = - \\frac{k + 1}{(2k + n + 1)(2k + n + 2)} \\cdot t_k (z) \\\\\n",
    "\\quad \\\\\n",
    "c^{'}_n (z) = \\sum_{k=0}^{\\infty} u_k (z)\n",
    "$$\n",
    "\n",
    "Alternatively we can write the $c^{'}_n (z)$ as a linear combination of $c_n (z)$\n",
    "\n",
    "$$\n",
    "c^{'}_n (z) = \\frac{n}{2}c_{n+2} (z) - \\frac{1}{2}c_{n+1} (z)\n",
    "$$"
   ]
  },
  {
   "cell_type": "code",
   "execution_count": 6,
   "metadata": {},
   "outputs": [],
   "source": [
    "# direct version\n",
    "\n",
    "def Stumpffs_func(K, z, n):\n",
    "    c = 0.0\n",
    "    for k in range(K):\n",
    "        temp = (-1)**k * ((z**k)/fact(2*k + n))\n",
    "        c = c + temp\n",
    "    return c\n",
    "\n",
    "def Stumpffs_deriv(K, z, n):\n",
    "    c1 = 0.0\n",
    "    for k in range(K):\n",
    "        temp = (-1)**k * ((z**k)/fact(2*k + n)) * ((-k - 1)/((2*k + n +1)*(2*k + n + 2)))\n",
    "        c1 = c1 + temp\n",
    "    return c1\n"
   ]
  },
  {
   "cell_type": "code",
   "execution_count": 8,
   "metadata": {},
   "outputs": [],
   "source": [
    "# recorsive Version\n",
    "\n",
    "def tk(k, z, order_n):\n",
    "    if k == 0:\n",
    "        return 1/fact(order_n)\n",
    "    else:\n",
    "        return - (z)/((2*k + order_n - 1.)*(2*k + order_n)) * tk(k-1, z, order_n)\n",
    "    \n",
    "def uk(k, z, order_n):\n",
    "    if k == 0:\n",
    "        return 1/fact(order_n)\n",
    "    else:\n",
    "        return - (k + 1.)/((2*k + order_n + 1.)*(2*k + order_n + 2.)) * tk(k, z, order_n)\n",
    "    \n",
    "\n",
    "def Stumpffs_Cn(z, order_n, max_iter = 1000, tol = 1e-6):\n",
    "    c = 0.0\n",
    "    k = 0.0\n",
    "    diff = 1.\n",
    "    while (diff > tol) and (k < max_iter):\n",
    "        temp = tk(k, z, order_n)\n",
    "        diff = np.abs(temp - c)\n",
    "        c = c + temp\n",
    "        k += 1\n",
    "    return c\n",
    "\n",
    "def Stumpffs_Cn_deriv(z, order_n, max_iter = 1000, tol = 1e-6):\n",
    "    c_d = 0.0\n",
    "    k = 0.0\n",
    "    diff = 1.\n",
    "    while (diff > tol) and (k < max_iter):\n",
    "        temp = uk(k, z, order_n)\n",
    "        diff = np.abs(temp - c_d)\n",
    "        c_d = c_d + temp\n",
    "        k += 1\n",
    "    return c_d\n",
    "\n",
    "def Stumpffs_Cn_deriv_linear_comb(z, order_n):\n",
    "    return 0.5*order_n*Stumpffs_Cn(z, order_n+2) - 0.5*Stumpffs_Cn(z, order_n+1)"
   ]
  },
  {
   "cell_type": "markdown",
   "metadata": {},
   "source": [
    "Now let's calculate $c_n (z)$ and $c^{'}_n (z)$ for various *n=1,2,3,4,5* and for a random value of *z*"
   ]
  },
  {
   "cell_type": "code",
   "execution_count": 4,
   "metadata": {},
   "outputs": [
    {
     "name": "stdout",
     "output_type": "stream",
     "text": [
      "Order n =  1\n",
      "Cn(4) (Recursive Version): 0.45464871341284085\n",
      "C'n(4) (Recursive Version): 1.0578172229216685\n",
      "\n",
      "\n",
      "Order n =  2\n",
      "Cn(4) (Recursive Version): 0.3540367091367857\n",
      "C'n(4) (Recursive Version): 0.5099885785590753\n",
      "\n",
      "\n",
      "Order n =  3\n",
      "Cn(4) (Recursive Version): 0.13633782164678976\n",
      "C'n(4) (Recursive Version): 0.16812790552455206\n",
      "\n",
      "\n",
      "Order n =  4\n",
      "Cn(4) (Recursive Version): 0.03649082271580359\n",
      "C'n(4) (Recursive Version): 0.041852371903502474\n",
      "\n",
      "\n",
      "Order n =  5\n",
      "Cn(4) (Recursive Version): 0.00758221125496922\n",
      "C'n(4) (Recursive Version): 0.00835421683686572\n",
      "\n",
      "\n"
     ]
    }
   ],
   "source": [
    "from numpy.random import randint, seed\n",
    "\n",
    "#seed(2096921)\n",
    "z = randint(0,11)\n",
    "\n",
    "order = np.arange(1, 6, 1)\n",
    "\n",
    "for n in order:\n",
    "    print(\"Order n = \", n)\n",
    "    print(f\"Cn({z}) (Recursive Version): {Stumpffs_Cn(z, n)}\")\n",
    "    print(f\"C'n({z}) (Recursive Version): {Stumpffs_Cn_deriv(z, n)}\")\n",
    "    print(\"\\n\")"
   ]
  },
  {
   "cell_type": "code",
   "execution_count": 9,
   "metadata": {},
   "outputs": [
    {
     "name": "stdout",
     "output_type": "stream",
     "text": [
      "Order n =  1\n",
      "Cn(4) (Recursive Version): 0.45464871341284085\n",
      "C'n(4) (Recursive Version): -0.10884944374499797\n",
      "\n",
      "\n",
      "Order n =  2\n",
      "Cn(4) (Recursive Version): 0.3540367091367857\n",
      "C'n(4) (Recursive Version): -0.03167808810759129\n",
      "\n",
      "\n",
      "Order n =  3\n",
      "Cn(4) (Recursive Version): 0.13633782164678976\n",
      "C'n(4) (Recursive Version): -0.0068720944754479645\n",
      "\n",
      "\n",
      "Order n =  4\n",
      "Cn(4) (Recursive Version): 0.03649082271580359\n",
      "C'n(4) (Recursive Version): -0.0012031836520530778\n",
      "\n",
      "\n",
      "Order n =  5\n",
      "Cn(4) (Recursive Version): 0.00758221125496922\n",
      "C'n(4) (Recursive Version): -0.00017752919488031208\n",
      "\n",
      "\n"
     ]
    }
   ],
   "source": [
    "for n in order:\n",
    "    print(\"Order n = \", n)\n",
    "    print(f\"Cn({z}) (Recursive Version): {Stumpffs_Cn(z, n)}\")\n",
    "    print(f\"C'n({z}) (linear combination): {Stumpffs_Cn_deriv_linear_comb(z, n)}\")\n",
    "    print(\"\\n\")"
   ]
  },
  {
   "cell_type": "markdown",
   "metadata": {},
   "source": [
    "## Exercise 2\n",
    "The solution of the universal Kepler equation, for example the determination of the parameter *s* in the terms of the time of flight $t-t_0$ and the other known parameters $\\mu, r_0, \\dot r_0$ and *C* of the orbit can be found by applying Newton-Raphson to find the root and after that the derivative of the time of flight with respect to the fictitios time is simply given by the radius vector $r(s)$:\n",
    "\n",
    "$$\n",
    "t - t_0 = r_0 s + r_0 \\dot r_0 s^2 c_2 \\left(-2Cs^2 \\right) + \\left( \\mu + 2 r_0 C \\right) s^3 c_3 \\left(-2Cs^2 \\right) \\\\\n",
    "\\quad \\\\\n",
    "\\frac{d(t - t_0)}{ds} = r_0(1 + \\dot r_0 s) + (\\mu 2 r_0 C)s^2 c_2 (-2C s^2) + 2 r_0 \\dot r_0 C s^3 c_3 (-2C s^2)\n",
    "$$"
   ]
  },
  {
   "cell_type": "code",
   "execution_count": 11,
   "metadata": {},
   "outputs": [],
   "source": [
    "# Newton-Raphson Method\n",
    "\n",
    "def Newton_Raphson(func, dfunc, x, tol = 1e-6, max_iter = 1000):\n",
    "    i = 0.0\n",
    "    while (abs(func(x)) > tol) and (i < max_iter):\n",
    "        x = x - func(x)/dfunc(x)\n",
    "        i += 1\n",
    "    return x\n",
    "\n",
    "# Kepler Equation\n",
    "def Kepler_eq(t, t0, r0, dr0, mu, C):\n",
    "    func = lambda s: r0*s + r0*dr0*s**2.*Stumpffs_Cn(z=(-2*C*s**2.), order_n=2) + (mu + 2*r0*C)*s**3. * Stumpffs_Cn(z=(-2*C*s**2.), order_n=3) - (t - t0)\n",
    "    return func\n",
    "\n",
    "def dev_Kepler_eq(r0, dr0, mu, C):\n",
    "    func_prime = lambda s: r0*(1 + dr0*s) + (mu + 2*r0*C)*s**2. * Stumpffs_Cn(z=(-2*C*s**2.), order_n=2) + 2*r0*dr0*C*s**3. * Stumpffs_Cn(z=(-2*C*s**2.), order_n=3)\n",
    "    return func_prime\n",
    "\n",
    "# resolve\n",
    "def resolve_Kepler_eq(t, t0, r0, dr0, mu, C, s_guess):\n",
    "    solution = Newton_Raphson(Kepler_eq(t, t0, r0, dr0, mu, C), dev_Kepler_eq(r0, dr0, mu, C), s_guess)\n",
    "    return solution"
   ]
  },
  {
   "cell_type": "markdown",
   "metadata": {},
   "source": [
    "## Exercise 3\n",
    "The Lagrange coefficients are written as follow:"
   ]
  },
  {
   "cell_type": "code",
   "execution_count": 12,
   "metadata": {},
   "outputs": [],
   "source": [
    "# Lagrange Coefficients\n",
    "F = lambda mu, r0, s, C:        1 - (mu/r0)*s**2.*Stumpffs_Cn(z=(-2*C*s**2.), order_n=2)\n",
    "G = lambda mu, t, t0, s, C:     t - t0 - mu*s**3.*Stumpffs_Cn(z=(-2*C*s**2.), order_n=3)\n",
    "dF = lambda mu, r, r0, s, C:    -(mu/(r*r0))*(s + 2*C*s**3. * Stumpffs_Cn(z=(-2*C*s**2.), order_n=3))\n",
    "dG = lambda mu, r, s, C:        1 - (mu/r)*s**2.*Stumpffs_Cn(z=(-2*C*s**2.), order_n=2)"
   ]
  },
  {
   "cell_type": "markdown",
   "metadata": {},
   "source": [
    "(vedere p.18 cap 5)"
   ]
  }
 ],
 "metadata": {
  "kernelspec": {
   "display_name": "base",
   "language": "python",
   "name": "python3"
  },
  "language_info": {
   "codemirror_mode": {
    "name": "ipython",
    "version": 3
   },
   "file_extension": ".py",
   "mimetype": "text/x-python",
   "name": "python",
   "nbconvert_exporter": "python",
   "pygments_lexer": "ipython3",
   "version": "3.11.5"
  }
 },
 "nbformat": 4,
 "nbformat_minor": 2
}
