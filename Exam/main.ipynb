{
 "cells": [
  {
   "cell_type": "markdown",
   "metadata": {},
   "source": [
    "# Coorbital satellites motion:\n",
    "**The Orbital Dance of Epimetheus and Janus**\n",
    "\n",
    "The idea behind this project is the verification of the horseshoe-like relative\n",
    "orbit of the Janus-Epimetheus satellite pair orbiting Saturn. The project should also include an analytical\n",
    "study of the motion from the existing literature. The framework is the Circular Restricted Three-Body\n",
    "Problem (CR3BP)\n",
    "\n",
    "I can take inspiration from here:\n",
    "https://github.com/KevinCarr42/Saturns-Moons-Janus-and-Epimetheus"
   ]
  }
 ],
 "metadata": {
  "language_info": {
   "name": "python"
  }
 },
 "nbformat": 4,
 "nbformat_minor": 2
}
