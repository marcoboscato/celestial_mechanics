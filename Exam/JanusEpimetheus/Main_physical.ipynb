{
 "cells": [
  {
   "cell_type": "code",
   "execution_count": 1,
   "metadata": {},
   "outputs": [],
   "source": [
    "import numpy as np\n",
    "import seaborn as sns\n",
    "import matplotlib.pyplot as plt\n",
    "from matplotlib.patches import Circle\n",
    "\n",
    "from modules.moons import Moons\n",
    "#from modules.Nbody_units import Nbody_units\n",
    "from modules.Saturn_Nbody_units2 import Nbody_units\n",
    "\n",
    "sns.set(style=\"whitegrid\")"
   ]
  },
  {
   "cell_type": "code",
   "execution_count": 4,
   "metadata": {},
   "outputs": [
    {
     "name": "stdout",
     "output_type": "stream",
     "text": [
      "Janus period is days= 0.6959949385316301 d\n",
      "v_Janus = 1582552.028950852 cm/s\n",
      "v_Janus = 1582813.309810654 cm/s\n"
     ]
    }
   ],
   "source": [
    "## Constants (in CGS units)\n",
    "G = 6.67430e-8               #Gravitational constants in cgs\n",
    "M_saturn = 5.6834e29         #Mass of Saturn in grams\n",
    "m_Janus = 1.98e21            #Mass of Janus in grams        from: https://www.whitman.edu/Documents/Academics/Mathematics/sakari.pdf\n",
    "m_Epimetheus = 5.5e20        #Mass of Epimetheus in grams\n",
    "\n",
    "a_Janus = 151460*1e5         #Semi-major axis of Janus in cm\n",
    "a_Epimetheus = 151410*1e5    #Semi-major axis of Epimetheus in cm          from: Cassini data\n",
    "\n",
    "# Orbital period of Janus -> this is use for the calculation\n",
    "Janus_period = 2*np.pi*np.sqrt(a_Janus**3/(G*M_saturn))   #Orbital period of Janus and Epimetheus in seconds\n",
    "Janus_period_days = Janus_period/(3600*24)                #Orbital period of Janus and Epimetheus in days\n",
    "print('Janus period is days=', Janus_period_days, 'd')\n",
    "\n",
    "# orbital velocities of Janus and Epimetheus for a circular orbit:\n",
    "v_Janus = np.sqrt(G*M_saturn/a_Janus)\n",
    "v_Epimetheus = np.sqrt(G*M_saturn/a_Epimetheus)\n",
    "\n",
    "print('v_Janus =', v_Janus, 'cm/s')\n",
    "print('v_Janus =', v_Epimetheus, 'cm/s')"
   ]
  },
  {
   "cell_type": "code",
   "execution_count": null,
   "metadata": {},
   "outputs": [],
   "source": []
  }
 ],
 "metadata": {
  "kernelspec": {
   "display_name": "base",
   "language": "python",
   "name": "python3"
  },
  "language_info": {
   "codemirror_mode": {
    "name": "ipython",
    "version": 3
   },
   "file_extension": ".py",
   "mimetype": "text/x-python",
   "name": "python",
   "nbconvert_exporter": "python",
   "pygments_lexer": "ipython3",
   "version": "3.11.5"
  }
 },
 "nbformat": 4,
 "nbformat_minor": 2
}
