{
 "cells": [
  {
   "cell_type": "markdown",
   "metadata": {},
   "source": [
    "# Traccia per paper esame"
   ]
  },
  {
   "cell_type": "markdown",
   "metadata": {},
   "source": [
    "## 1. Introduction"
   ]
  },
  {
   "cell_type": "markdown",
   "metadata": {},
   "source": [
    "In celestial Mechanics we study the motion and the interaction between celestial bodies in our Solar System, in particular their orbit and how they evolve througt time. On eof the most simple case in the *circular orbit*, a specific case where the orbit of the object doesn't change in radius. This case is very rare in the physical world but we can approximate motions of moons and satellites in our system since heir very low eccentricity. The sencon and most common in case in the *eccentric orbit*, where we can describe it as a elliptical orbit around the main object, categorized by a eliocenter (semi-minor axis $b$) and a aphocventer (semi-major axis $a$). In the physical space the pure matematic orbit doesn't exist since we have a lot of other gravitational influences that can change the orbit as the example of the precession of Mercury, where every period the semi-major axis of the planet's orbit moves for a factor of .....\n",
    "But in the solar system exist another type of orbit and are very rare to obser that we have only one single study case; this peculiar orbit it called *horseshoe-shape orbit\" and this happen when two celestial bodies share the same orbits. The name horseshoe comes from that if we see the second object from the point of view of the first (o viceversa), the second object seems to draw an horse-shoe shape like orbit (inserire immagine e citare da dove): This happens when we have a mutual interaction between the two bodies and they are in a 1:1 orbital resonance (citare analytic descr. papaer). The only case known in our Solar System is the case of  Janus and Epimetheus, two Saturn's moons that orbit inside the ring region....\n",
    "To be more precise, Janus and Epimetheus don't actual share the same orbit but their differ few tens of kilometers, even smaller then themself, as a result of their close encounter, making them swap their position approximatly every four years due mutual gravitational interaction. This happens since, according to Kepler’s Laws, the inner moon moves faster tangentially in its orbit: as the inner moon approaches the outer moon, it pulls the outer moon down toward its orbit while the outer moon simultaneously pulls the inner moon up toward its orbit. What had been the outer moon remains in the lead, but has now become the faster-moving inner moon. Four years later, the exchange occurs again with the moons’ roles reversed.\n",
    "the inner moon never actually catches up to or passes the outer moon. Instead, the orbit exchange takes place before the two moons collide.\n",
    "It is known that horseshoe orbits can be stable (sean o neil paper citation) and provides a proof that the moons’ horseshoeing behavior makes collisions uncommon, leading to a Saturn ring system that is more stable than previously believed because of the presence of co-orbiting moons.\n",
    "\n",
    "In this works in Sec.2 we'll provide a analitic explanation of this particular motion, describing how the evolve througt time and how their orbital swap occurs, making a theoretical prediction of the period of the interchange and the frequency in Earth years. After that i Sec.3, we'll present the results of a simulation of the Janus-Epimetheus system made in python to see if the results confirm what we had predict in Sec.2. we discuss our results in Section 4, comparing the predictions of my analytic models to my simulation"
   ]
  },
  {
   "cell_type": "markdown",
   "metadata": {},
   "source": [
    "## 2. Analytic Description"
   ]
  },
  {
   "cell_type": "markdown",
   "metadata": {},
   "source": [
    "This analytic study was done by following what was done by Sean o neal and Philippe Robutel (analytical description paper), In particular it's been treated the problem by taking consideration Newton gravity and without Saturn's torque affluences. The simulation that was proporse was done by taking a short time interval of 6 earth years to obtain a nice results of the motion due computational limitations.\n",
    " "
   ]
  },
  {
   "cell_type": "markdown",
   "metadata": {},
   "source": [
    "### 2.1 Libration"
   ]
  },
  {
   "cell_type": "markdown",
   "metadata": {},
   "source": [
    "bla bla bla"
   ]
  },
  {
   "cell_type": "markdown",
   "metadata": {},
   "source": [
    "### 2.2 Analytic solution"
   ]
  },
  {
   "cell_type": "markdown",
   "metadata": {},
   "source": [
    "In this section we'll discuss a analytic solution of the Janus-Epimetheus system parameters without the necessity of using a *n-body* simulation. This is a good way to retrive good parameters in according to the literature. For this section we base our calculation following what was done in O'Neal papers"
   ]
  },
  {
   "cell_type": "markdown",
   "metadata": {},
   "source": [
    "#### 2.2.1  Exchange Period\n",
    "For an estimate of the co-orbital exchange period, we considered the two moons as test particles that do not gravitationally interact with one another, using the time required for the inner moon to reach the outer moon as a proxy for the exchange orbit period. We neglect on porpuse the gravitational interaction between the two moon, that is exencially to explain the swap between them, but doing right so we get a good approximation of the period since the time that the two moons are distace from each other is greater than the time of the actual swap phase.\n",
    "From the third Kepler law we know that the period of the object orbiting a large corp is given by the formula\n",
    "\n",
    "$$\n",
    "T = \\frac{2 \\pi}{\\sqrt{GM}} r^{3/2}\n",
    "$$\n",
    "\n",
    "where $G$ is the gravitational constant, M is the Mass of the larger corp since, for a Planet-moon system like Saturn system, $M_{planet}$ >> $m_{moon}$, and so $M = (M_{planet} + m_{moon}) \\sim M_{planet}$ and $r$ is the orbital radius of the moon.\n",
    "\n",
    "For two moons with different orbital radii, the positive difference in their orbital periods is $\\Delta T_{orb} = T_o − T_i$, where $T_o$ is the period of the outer moon and $T_i$ is the period of the inner moon and, always for the Kepler's third law, the inner moon have a shorter period than the outer one. We this consideration is quite straightforward that, if $\\Delta T_{orb}$ is the difference period of the two moons, the time required by the inner moon to reach the same orbital period of the outer moon is $T_{reach} = N T_i$ where $N$ is the number of orbit required to reach the outher moon given by $N = T_o / \\Delta T_{orb}$. We can write the final equation as\n",
    "\n",
    "$$\n",
    "T_{reach} = N T_i = \\frac{T_o T_i}{\\Delta T_{orb}} = \\frac{T_o T_i}{T_o - T_i} = \\frac{2 \\pi}{\\sqrt{GM}} \\frac{(r_o r_i)^{3/2}}{r_o^{3/2} - r_i^{3/2}}\n",
    "$$\n",
    "\n",
    "Given as initial condition $r_0 = 151460 \\, \\rm km$ for Janus and $r_i = 151410 \\rm km$ for Epimetheus, from the formula we get $T_{reach} = 3.8493 \\, \\rm yr$ "
   ]
  },
  {
   "cell_type": "markdown",
   "metadata": {},
   "source": [
    "#### 2.2.2 Post-Exchange Orbital Radii\n",
    "Since Janus and Epimetheus have different masses, their exchanges are not perfectly symmetric, meaning that the pre-exchange orbital radius of the old inner moon is not identical to the post exchange orbital radius of the new inner moon, basically what will find is the Epimetheus, the smaller monn, is going to have a smaller $r$ when is the inner moon, and a larger $r$ when is the outer moon than Janus.\n",
    "To get a analytic solution we suppose that the conservation of mechanical energy and angular momentum is mainteined post-exchange. Since the two moons are extremly smaller that Saturn in in values of mass, we can restrain our problem to only the kinetic energies of the two moons and their gravitational potential energies with respect to Saturn. From the conservation of energy we can write:\n",
    "\n",
    "$$\n",
    "\\frac{1}{2}m_{e} v_{e_i}^2 + \\frac{1}{2}m_{j} v_{j_i}^2 + \\frac{G M_S m_e}{r_{e_i}} + \\frac{G M_S m_j}{r_{j_i}} = \\frac{1}{2}m_{e} v_{e_f}^2 + \\frac{1}{2}m_{j_f} v_{j}^2 + \\frac{G M_S m_e}{r_{e_f}} + \\frac{G M_S m_j}{r_{j_f}}\n",
    "$$\n",
    "\n",
    "where with the indices $S, e, j$ we indicate Saturn, Epimetheus and Janus. Since the two moons have a very low eccentricity, we suppose they follow a circular orbit, so that we can write the velocity as function of their radius\n",
    "\n",
    "$$\n",
    "v_{circular} = \\sqrt{\\frac{G M}{r}}\n",
    "$$\n",
    "\n",
    "so that we can rewrite the Eq. as\n",
    "\n",
    "$$\n",
    "\\frac{1}{2}m_{e} \\frac{G M_S}{r_{e_i}} + \\frac{1}{2}m_{j} \\frac{G M_S}{r_{j_i}} + \\frac{G M_S m_e}{r_{e_i}} + \\frac{G M_S m_j}{r_{j_i}} = \\frac{1}{2}m_{e} \\frac{G M_S}{r_{e_f}} + \\frac{1}{2}m_{j} \\frac{G M_S}{r_{j_f}} + \\frac{G M_S m_e}{r_{e_f}} + \\frac{G M_S m_j}{r_{j_f}} \\\\\n",
    "\n",
    "\n",
    "G M_S \\left (\\frac{1}{2} \\frac{m_e}{r_{e_i}} + \\frac{1}{2} \\frac{m_j}{r_{j_i}} + \\frac{m_e}{r_{e_i}} + \\frac{m_j}{r_{j_i}} \\right ) = G M_S \\left (\\frac{1}{2} \\frac{m_e}{r_{e_f}} + \\frac{1}{2} \\frac{m_j}{r_{j_f}} + \\frac{m_e}{r_{e_f}} + \\frac{m_j}{r_{j_f}} \\right ) \\\\\n",
    "\n",
    "\\frac{m_e}{r_{e_i}} + \\frac{m_j}{r_{j_i}} = \\frac{m_e}{r_{e_f}} + \\frac{m_j}{r_{j_f}}\n",
    "$$\n",
    "\n",
    "and by introducing \n",
    "\n",
    "$$\n",
    "\\mu = \\frac{m_j}{m_e} \\quad\\quad p_{e_f} = \\frac{r_{e_f}}{r_{e_i}} \\quad\\quad p_{j_i} = \\frac{r_{j_i}}{r_{e_i}} \\quad\\quad p_{j_f} = \\frac{r_{j_f}}{r_{e_i}}\n",
    "$$\n",
    "\n",
    "we can write the Eq.\n",
    "\n",
    "$$\n",
    "1 + \\frac{\\mu}{p_{j_i}} = \\frac{1}{p_{e_f}} + \\frac{\\mu}{p_{j_f}}\n",
    "$$"
   ]
  },
  {
   "cell_type": "markdown",
   "metadata": {},
   "source": [
    "## 3. Simulation Results"
   ]
  },
  {
   "cell_type": "markdown",
   "metadata": {},
   "source": [
    "## 4. Discussion "
   ]
  },
  {
   "cell_type": "markdown",
   "metadata": {},
   "source": [
    "## 5. Conclusion"
   ]
  }
 ],
 "metadata": {
  "language_info": {
   "name": "python"
  }
 },
 "nbformat": 4,
 "nbformat_minor": 2
}
